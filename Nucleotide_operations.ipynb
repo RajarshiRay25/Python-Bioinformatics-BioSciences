{
 "cells": [
  {
   "cell_type": "code",
   "execution_count": 8,
   "metadata": {},
   "outputs": [],
   "source": [
    "# import libraries\n",
    "\n",
    "from Bio.Seq import Seq\n",
    "from Bio.Seq import MutableSeq\n",
    "from Bio.SeqUtils import GC"
   ]
  },
  {
   "cell_type": "code",
   "execution_count": 4,
   "metadata": {},
   "outputs": [
    {
     "data": {
      "text/plain": [
       "Seq('GAGGTTGACATAGAACCGCACAACACTCTTGACAAAGTGAGTCTTGGCCAAGTG...TCT')"
      ]
     },
     "execution_count": 4,
     "metadata": {},
     "output_type": "execute_result"
    }
   ],
   "source": [
    "testSeq = Seq(\"GAGGTTGACATAGAACCGCACAACACTCTTGACAAAGTGAGTCTTGGCCAAGTGCGATGCTTAACTAAAGTTCTACCTTCTCCATGCAAAAGAGGCAAAATAGTACGAATGGCTTGCAATCTTATAATTAATCGGGAGACTGTACGAAGGCGAGCAAATCGAATTAGTTACTATAACTCGCTTGTCAAACCCTGTGACACGCCAATAGGCCCATTTGTGTGGTTCCTTAGATGACAACCTGCGTGTGAATTATCTACGTCCTGACTTCGAGTGATCATCGACCAGCGGTAATCTTTCTGCCCTTCAGGTTTACTATACTGAATTGCTACGACTGACTTTTCCAATTTTTAGGTTAAGCCACTCAAACCGTCCCTCATTACAAGCAGATAGTACGTAAGGATTATAAAGTGTTGAGGAATCAGACACATCATGGACTAAAACGCGTAAGCCATTAATTGCCCTTTTATCTACTTGTCACAATCTAACTTCTCCTACGATCT\")\n",
    "\n",
    "testSeq"
   ]
  },
  {
   "cell_type": "code",
   "execution_count": 7,
   "metadata": {},
   "outputs": [
    {
     "name": "stdout",
     "output_type": "stream",
     "text": [
      "Transcription DNA : GAGGUUGACAUAGAACCGCACAACACUCUUGACAAAGUGAGUCUUGGCCAAGUGCGAUGCUUAACUAAAGUUCUACCUUCUCCAUGCAAAAGAGGCAAAAUAGUACGAAUGGCUUGCAAUCUUAUAAUUAAUCGGGAGACUGUACGAAGGCGAGCAAAUCGAAUUAGUUACUAUAACUCGCUUGUCAAACCCUGUGACACGCCAAUAGGCCCAUUUGUGUGGUUCCUUAGAUGACAACCUGCGUGUGAAUUAUCUACGUCCUGACUUCGAGUGAUCAUCGACCAGCGGUAAUCUUUCUGCCCUUCAGGUUUACUAUACUGAAUUGCUACGACUGACUUUUCCAAUUUUUAGGUUAAGCCACUCAAACCGUCCCUCAUUACAAGCAGAUAGUACGUAAGGAUUAUAAAGUGUUGAGGAAUCAGACACAUCAUGGACUAAAACGCGUAAGCCAUUAAUUGCCCUUUUAUCUACUUGUCACAAUCUAACUUCUCCUACGAUCU\n",
      "Translated DNA : EVDIEPHNTLDKVSLGQVRCLTKVLPSPCKRGKIVRMACNLIINRETVRRRANRISYYNSLVKPCDTPIGPFVWFLR*QPACELSTS*LRVIIDQR*SFCPSGLLY*IATTDFSNF*VKPLKPSLITSR*YVRIIKC*GIRHIMD*NA*AINCPFIYLSQSNFSYD\n"
     ]
    },
    {
     "name": "stderr",
     "output_type": "stream",
     "text": [
      "c:\\Users\\Rajarshi Ray\\AppData\\Local\\Programs\\Python\\Python310\\lib\\site-packages\\Bio\\Seq.py:2979: BiopythonWarning: Partial codon, len(sequence) not a multiple of three. Explicitly trim the sequence or add trailing N before translation. This may become an error in future.\n",
      "  warnings.warn(\n"
     ]
    }
   ],
   "source": [
    "# Perform transcription and translation\n",
    "\n",
    "DNA_transcription = testSeq.transcribe()\n",
    "print(f\"Transcription DNA : {DNA_transcription}\")\n",
    "\n",
    "DNA_translation = testSeq.translate()\n",
    "print(f\"Translated DNA : {DNA_translation}\")"
   ]
  },
  {
   "cell_type": "code",
   "execution_count": 11,
   "metadata": {},
   "outputs": [
    {
     "name": "stdout",
     "output_type": "stream",
     "text": [
      "GC Content : 42.0\n",
      "Adenine : 147\n",
      "Thymine : 143\n",
      "Guanine : 95\n",
      "Cytosine : 115\n"
     ]
    }
   ],
   "source": [
    "# Other operations\n",
    "\n",
    "print(f\"GC Content : {GC(testSeq)}\")\n",
    "print(f\"Adenine : {testSeq.count('A')}\")\n",
    "print(f\"Thymine : {testSeq.count('T')}\")\n",
    "print(f\"Guanine : {testSeq.count('G')}\")\n",
    "print(f\"Cytosine : {testSeq.count('C')}\")"
   ]
  },
  {
   "cell_type": "code",
   "execution_count": null,
   "metadata": {},
   "outputs": [],
   "source": []
  }
 ],
 "metadata": {
  "kernelspec": {
   "display_name": "Python 3.10.1 64-bit",
   "language": "python",
   "name": "python3"
  },
  "language_info": {
   "codemirror_mode": {
    "name": "ipython",
    "version": 3
   },
   "file_extension": ".py",
   "mimetype": "text/x-python",
   "name": "python",
   "nbconvert_exporter": "python",
   "pygments_lexer": "ipython3",
   "version": "3.10.1"
  },
  "orig_nbformat": 4,
  "vscode": {
   "interpreter": {
    "hash": "05aeb0e70bb40dbff07d44a1951aa1ca077197faf59cf7af45cccde9a919015e"
   }
  }
 },
 "nbformat": 4,
 "nbformat_minor": 2
}
