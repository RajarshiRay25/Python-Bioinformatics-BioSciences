{
 "cells": [
  {
   "cell_type": "code",
   "execution_count": 2,
   "metadata": {},
   "outputs": [],
   "source": [
    "# Import Libraries - Biopython\n",
    "from Bio.Seq import Seq\n",
    "from Bio.SeqUtils import GC\n",
    "from Bio.Seq import MutableSeq"
   ]
  },
  {
   "cell_type": "code",
   "execution_count": 3,
   "metadata": {},
   "outputs": [
    {
     "data": {
      "text/plain": [
       "Seq('ATTTTGCGAGCATCGAGCATACGAA')"
      ]
     },
     "execution_count": 3,
     "metadata": {},
     "output_type": "execute_result"
    }
   ],
   "source": [
    "# Input nucleotide sequence\n",
    "mySeq = Seq(\"ATTTTGCGAGCATCGAGCATACGAA\")\n",
    "mySeq"
   ]
  },
  {
   "cell_type": "code",
   "execution_count": 4,
   "metadata": {},
   "outputs": [
    {
     "name": "stdout",
     "output_type": "stream",
     "text": [
      "Length of sequence : 25\n",
      "GC Content sequence : 44.0\n",
      "Adenine Count :8\n",
      "Thymine Count :6\n",
      "Guanine Count :6\n",
      "Cytosine Count :5\n"
     ]
    }
   ],
   "source": [
    "# Basic sequence operations\n",
    "print(f\"Length of sequence : {len(mySeq)}\")\n",
    "print(f\"GC Content sequence : {GC(mySeq)}\")\n",
    "print(f\"Adenine Count :{mySeq.count('A')}\")\n",
    "print(f\"Thymine Count :{mySeq.count('T')}\")\n",
    "print(f\"Guanine Count :{mySeq.count('G')}\")\n",
    "print(f\"Cytosine Count :{mySeq.count('C')}\")\n"
   ]
  },
  {
   "cell_type": "code",
   "execution_count": 5,
   "metadata": {},
   "outputs": [
    {
     "data": {
      "text/plain": [
       "MutableSeq('ATGCAGATCGACGACTACGACTA')"
      ]
     },
     "execution_count": 5,
     "metadata": {},
     "output_type": "execute_result"
    }
   ],
   "source": [
    "# To create sequences with mutable characters\n",
    "\n",
    "newSeq = MutableSeq(\"ATGCAGATCGACGACTACGACTA\")\n",
    "newSeq"
   ]
  },
  {
   "cell_type": "code",
   "execution_count": 6,
   "metadata": {},
   "outputs": [
    {
     "data": {
      "text/plain": [
       "MutableSeq('AGAAGATCGACGACTACGACTA')"
      ]
     },
     "execution_count": 6,
     "metadata": {},
     "output_type": "execute_result"
    }
   ],
   "source": [
    "# changing G at 3rd index position and removing A at 7th index position\n",
    "\n",
    "newSeq[3]=\"A\"\n",
    "newSeq.remove(newSeq[7])\n",
    "newSeq"
   ]
  }
 ],
 "metadata": {
  "kernelspec": {
   "display_name": "Python 3.10.1 64-bit",
   "language": "python",
   "name": "python3"
  },
  "language_info": {
   "codemirror_mode": {
    "name": "ipython",
    "version": 3
   },
   "file_extension": ".py",
   "mimetype": "text/x-python",
   "name": "python",
   "nbconvert_exporter": "python",
   "pygments_lexer": "ipython3",
   "version": "3.10.1"
  },
  "orig_nbformat": 4,
  "vscode": {
   "interpreter": {
    "hash": "05aeb0e70bb40dbff07d44a1951aa1ca077197faf59cf7af45cccde9a919015e"
   }
  }
 },
 "nbformat": 4,
 "nbformat_minor": 2
}
