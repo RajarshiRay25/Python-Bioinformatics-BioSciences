{
 "cells": [
  {
   "cell_type": "code",
   "execution_count": 11,
   "metadata": {},
   "outputs": [
    {
     "data": {
      "text/plain": [
       "Bio.Align.PairwiseAligner"
      ]
     },
     "execution_count": 11,
     "metadata": {},
     "output_type": "execute_result"
    }
   ],
   "source": [
    "# we will use module - pairwisealigner\n",
    "\n",
    "from Bio import SeqIO,Align\n",
    "aligner = Align.PairwiseAligner()  # creates an object which performs various operations\n",
    "type(aligner)"
   ]
  },
  {
   "cell_type": "code",
   "execution_count": 17,
   "metadata": {},
   "outputs": [],
   "source": [
    "# input sequence files\n",
    "\n",
    "seq_1 = SeqIO.read(\"./homosapiens_pseudogene_3.fasta\",\"fasta\")\n",
    "seq_2 = SeqIO.read(\"./homosapiens_pseudogene_4.fasta\",\"fasta\")\n",
    "\n",
    "# align the sequences\n",
    "\n",
    "seqAligner = aligner.align(seq_1.seq,seq_2.seq)"
   ]
  },
  {
   "cell_type": "code",
   "execution_count": 20,
   "metadata": {},
   "outputs": [
    {
     "name": "stdout",
     "output_type": "stream",
     "text": [
      "AGGTCCT-GAGC-AAA-G-G-AGGACTTG--GTATGAA-C-AAG-TGGGTTTG-G----TGC-CG-CCATTGCTTCTGGC-TTG---G-GT----C\n",
      "----||--|-|--|---|-|-|||--|||--||--||--|-|||-|---|--|-|----|||-|--|||--||--||||--|-|---|-||----|\n",
      "----CC-CG-G-GA--TGTGGAGG--TTGCAGT--GA-GCCAAGAT---T--GCGCCACTGCAC-TCCA--GC--CTGG-GT-GACAGAGTAAGAC\n",
      "\n"
     ]
    }
   ],
   "source": [
    "# show the alignment - only 1 run\n",
    "\n",
    "for alignment in seqAligner:\n",
    "    print(alignment)\n",
    "    break"
   ]
  },
  {
   "cell_type": "code",
   "execution_count": 22,
   "metadata": {},
   "outputs": [
    {
     "name": "stdout",
     "output_type": "stream",
     "text": [
      "SCORE : 44.0 \n"
     ]
    }
   ],
   "source": [
    "# show score \n",
    "\n",
    "print(f\"SCORE : {aligner.score(seq_1.seq,seq_2.seq)} \")"
   ]
  },
  {
   "attachments": {},
   "cell_type": "markdown",
   "metadata": {},
   "source": [
    "## LOCAL ALIGNMENT"
   ]
  },
  {
   "cell_type": "code",
   "execution_count": 24,
   "metadata": {},
   "outputs": [
    {
     "name": "stdout",
     "output_type": "stream",
     "text": [
      "AGGTCCT-GAGC-AAA-G-G-AGGACTTG--GTATGAA-C-AAG-TGGGTTTG-G----TGC-CG-CCATTGCTTCTGGC-TTG---G-GT----C\n",
      "    ||--|-|--|---|-|-|||--|||--||--||--|-|||-|---|--|-|----|||-|--|||--||--||||--|-|---|-||----|\n",
      "    CC-CG-G-GA--TGTGGAGG--TTGCAGT--GA-GCCAAGAT---T--GCGCCACTGCAC-TCCA--GC--CTGG-GT-GACAGAGTAAGAC\n",
      "\n",
      "SCORE : 44.0 \n",
      "ALGORITHM USED : Smith-Waterman\n"
     ]
    }
   ],
   "source": [
    "aligner.mode = \"local\"\n",
    "seqAligner_LOCAL = aligner.align(seq_1.seq,seq_2.seq)\n",
    "\n",
    "# show the alignment - only 1 run\n",
    "\n",
    "for alignment in seqAligner_LOCAL:\n",
    "    print(alignment)\n",
    "    break\n",
    "\n",
    "# show score\n",
    "\n",
    "print(f\"SCORE : {aligner.score(seq_1.seq,seq_2.seq)} \")\n",
    "\n",
    "# type of algorithm\n",
    "\n",
    "print(f\"ALGORITHM USED : {aligner.algorithm}\")"
   ]
  },
  {
   "attachments": {},
   "cell_type": "markdown",
   "metadata": {},
   "source": [
    "## GLOBAL ALIGNMENT"
   ]
  },
  {
   "cell_type": "code",
   "execution_count": 25,
   "metadata": {},
   "outputs": [
    {
     "name": "stdout",
     "output_type": "stream",
     "text": [
      "AGGTCCT-GAGC-AAA-G-G-AGGACTTG--GTATGAA-C-AAG-TGGGTTTG-G----TGC-CG-CCATTGCTTCTGGC-TTG---G-GT----C\n",
      "----||--|-|--|---|-|-|||--|||--||--||--|-|||-|---|--|-|----|||-|--|||--||--||||--|-|---|-||----|\n",
      "----CC-CG-G-GA--TGTGGAGG--TTGCAGT--GA-GCCAAGAT---T--GCGCCACTGCAC-TCCA--GC--CTGG-GT-GACAGAGTAAGAC\n",
      "\n",
      "SCORE : 44.0 \n",
      "ALGORITHM USED : Needleman-Wunsch\n"
     ]
    }
   ],
   "source": [
    "aligner.mode = \"global\"\n",
    "seqAligner_LOCAL = aligner.align(seq_1.seq,seq_2.seq)\n",
    "\n",
    "# show the alignment - only 1 run\n",
    "\n",
    "for alignment in seqAligner_LOCAL:\n",
    "    print(alignment)\n",
    "    break\n",
    "\n",
    "# show score\n",
    "\n",
    "print(f\"SCORE : {aligner.score(seq_1.seq,seq_2.seq)} \")\n",
    "\n",
    "# type of algorithm\n",
    "\n",
    "print(f\"ALGORITHM USED : {aligner.algorithm}\")"
   ]
  },
  {
   "attachments": {},
   "cell_type": "markdown",
   "metadata": {},
   "source": [
    "## SUBSTITUTION MATRIX + SCORING"
   ]
  },
  {
   "cell_type": "code",
   "execution_count": 26,
   "metadata": {},
   "outputs": [
    {
     "data": {
      "text/plain": [
       "194.0"
      ]
     },
     "execution_count": 26,
     "metadata": {},
     "output_type": "execute_result"
    }
   ],
   "source": [
    "# set scores\n",
    "\n",
    "aligner.match_score = +5\n",
    "aligner.mismatch_score = -1\n",
    "aligner.gap_score = -0.5\n",
    "\n",
    "# align\n",
    "\n",
    "seqAligner = aligner.align(seq_1.seq,seq_2.seq)\n",
    "seqAligner.score\n"
   ]
  },
  {
   "cell_type": "code",
   "execution_count": null,
   "metadata": {},
   "outputs": [],
   "source": []
  }
 ],
 "metadata": {
  "kernelspec": {
   "display_name": "Python 3",
   "language": "python",
   "name": "python3"
  },
  "language_info": {
   "codemirror_mode": {
    "name": "ipython",
    "version": 3
   },
   "file_extension": ".py",
   "mimetype": "text/x-python",
   "name": "python",
   "nbconvert_exporter": "python",
   "pygments_lexer": "ipython3",
   "version": "3.10.5"
  },
  "orig_nbformat": 4,
  "vscode": {
   "interpreter": {
    "hash": "3d146aba82d5cbe1b6bc02d88d69f2f0f5a7ce1392d5f0c8c2a7c473fd55863c"
   }
  }
 },
 "nbformat": 4,
 "nbformat_minor": 2
}
