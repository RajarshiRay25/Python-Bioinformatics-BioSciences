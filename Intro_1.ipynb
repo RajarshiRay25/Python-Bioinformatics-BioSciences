{
 "cells": [
  {
   "cell_type": "code",
   "execution_count": 7,
   "metadata": {},
   "outputs": [],
   "source": [
    "# Import Libraries - Biopython\n",
    "from Bio.Seq import Seq\n",
    "from Bio.SeqUtils import GC"
   ]
  },
  {
   "cell_type": "code",
   "execution_count": 2,
   "metadata": {},
   "outputs": [
    {
     "data": {
      "text/plain": [
       "Seq('ATTTTGCGAGCATCGAGCATACGAA')"
      ]
     },
     "execution_count": 2,
     "metadata": {},
     "output_type": "execute_result"
    }
   ],
   "source": [
    "# Input nucleotide sequence\n",
    "mySeq = Seq(\"ATTTTGCGAGCATCGAGCATACGAA\")\n",
    "mySeq"
   ]
  },
  {
   "cell_type": "code",
   "execution_count": 12,
   "metadata": {},
   "outputs": [
    {
     "name": "stdout",
     "output_type": "stream",
     "text": [
      "Length of sequence : 25\n",
      "GC Content sequence : 44.0\n",
      "Adenine Count :8\n",
      "Thymine Count :6\n",
      "Guanine Count :6\n",
      "Cytosine Count :5\n"
     ]
    }
   ],
   "source": [
    "# Basic sequence operations\n",
    "print(f\"Length of sequence : {len(mySeq)}\")\n",
    "print(f\"GC Content sequence : {GC(mySeq)}\")\n",
    "print(f\"Adenine Count :{mySeq.count('A')}\")\n",
    "print(f\"Thymine Count :{mySeq.count('T')}\")\n",
    "print(f\"Guanine Count :{mySeq.count('G')}\")\n",
    "print(f\"Cytosine Count :{mySeq.count('C')}\")\n"
   ]
  },
  {
   "cell_type": "code",
   "execution_count": null,
   "metadata": {},
   "outputs": [],
   "source": []
  }
 ],
 "metadata": {
  "kernelspec": {
   "display_name": "Python 3",
   "language": "python",
   "name": "python3"
  },
  "language_info": {
   "codemirror_mode": {
    "name": "ipython",
    "version": 3
   },
   "file_extension": ".py",
   "mimetype": "text/x-python",
   "name": "python",
   "nbconvert_exporter": "python",
   "pygments_lexer": "ipython3",
   "version": "3.10.5"
  },
  "orig_nbformat": 4,
  "vscode": {
   "interpreter": {
    "hash": "3d146aba82d5cbe1b6bc02d88d69f2f0f5a7ce1392d5f0c8c2a7c473fd55863c"
   }
  }
 },
 "nbformat": 4,
 "nbformat_minor": 2
}
