{
 "cells": [
  {
   "cell_type": "code",
   "execution_count": 10,
   "metadata": {},
   "outputs": [
    {
     "data": {
      "text/plain": [
       "Bio.Align.PairwiseAligner"
      ]
     },
     "execution_count": 10,
     "metadata": {},
     "output_type": "execute_result"
    }
   ],
   "source": [
    "# we will use module - pairwisealigner\n",
    "\n",
    "from Bio import SeqIO,Align\n",
    "aligner = Align.PairwiseAligner()  # creates an object which performs various operations\n",
    "type(aligner)"
   ]
  },
  {
   "cell_type": "code",
   "execution_count": 17,
   "metadata": {},
   "outputs": [],
   "source": [
    "# input sequence files\n",
    "\n",
    "seq_1 = SeqIO.read(\"./homosapiens_pseudogene_3.fasta\",\"fasta\")\n",
    "seq_2 = SeqIO.read(\"./homosapiens_pseudogene_4.fasta\",\"fasta\")\n",
    "\n",
    "# align the sequences\n",
    "\n",
    "seqAligner = aligner.align(seq_1.seq,seq_2.seq)"
   ]
  },
  {
   "cell_type": "code",
   "execution_count": 20,
   "metadata": {},
   "outputs": [
    {
     "name": "stdout",
     "output_type": "stream",
     "text": [
      "AGGTCCT-GAGC-AAA-G-G-AGGACTTG--GTATGAA-C-AAG-TGGGTTTG-G----TGC-CG-CCATTGCTTCTGGC-TTG---G-GT----C\n",
      "----||--|-|--|---|-|-|||--|||--||--||--|-|||-|---|--|-|----|||-|--|||--||--||||--|-|---|-||----|\n",
      "----CC-CG-G-GA--TGTGGAGG--TTGCAGT--GA-GCCAAGAT---T--GCGCCACTGCAC-TCCA--GC--CTGG-GT-GACAGAGTAAGAC\n",
      "\n"
     ]
    }
   ],
   "source": [
    "# show the alignment - only 1 run\n",
    "\n",
    "for alignment in seqAligner:\n",
    "    print(alignment)\n",
    "    break"
   ]
  },
  {
   "cell_type": "code",
   "execution_count": 22,
   "metadata": {},
   "outputs": [
    {
     "name": "stdout",
     "output_type": "stream",
     "text": [
      "SCORE : 44.0 \n"
     ]
    }
   ],
   "source": [
    "# show score \n",
    "\n",
    "print(f\"SCORE : {aligner.score(seq_1.seq,seq_2.seq)} \")"
   ]
  },
  {
   "attachments": {},
   "cell_type": "markdown",
   "metadata": {},
   "source": [
    "## LOCAL ALIGNMENT"
   ]
  },
  {
   "cell_type": "code",
   "execution_count": 24,
   "metadata": {},
   "outputs": [
    {
     "name": "stdout",
     "output_type": "stream",
     "text": [
      "AGGTCCT-GAGC-AAA-G-G-AGGACTTG--GTATGAA-C-AAG-TGGGTTTG-G----TGC-CG-CCATTGCTTCTGGC-TTG---G-GT----C\n",
      "    ||--|-|--|---|-|-|||--|||--||--||--|-|||-|---|--|-|----|||-|--|||--||--||||--|-|---|-||----|\n",
      "    CC-CG-G-GA--TGTGGAGG--TTGCAGT--GA-GCCAAGAT---T--GCGCCACTGCAC-TCCA--GC--CTGG-GT-GACAGAGTAAGAC\n",
      "\n",
      "SCORE : 44.0 \n",
      "ALGORITHM USED : Smith-Waterman\n"
     ]
    }
   ],
   "source": [
    "aligner.mode = \"local\"\n",
    "seqAligner_LOCAL = aligner.align(seq_1.seq,seq_2.seq)\n",
    "\n",
    "# show the alignment - only 1 run\n",
    "\n",
    "for alignment in seqAligner_LOCAL:\n",
    "    print(alignment)\n",
    "    break\n",
    "\n",
    "# show score\n",
    "\n",
    "print(f\"SCORE : {aligner.score(seq_1.seq,seq_2.seq)} \")\n",
    "\n",
    "# type of algorithm\n",
    "\n",
    "print(f\"ALGORITHM USED : {aligner.algorithm}\")"
   ]
  },
  {
   "attachments": {},
   "cell_type": "markdown",
   "metadata": {},
   "source": [
    "## GLOBAL ALIGNMENT"
   ]
  },
  {
   "cell_type": "code",
   "execution_count": 25,
   "metadata": {},
   "outputs": [
    {
     "name": "stdout",
     "output_type": "stream",
     "text": [
      "AGGTCCT-GAGC-AAA-G-G-AGGACTTG--GTATGAA-C-AAG-TGGGTTTG-G----TGC-CG-CCATTGCTTCTGGC-TTG---G-GT----C\n",
      "----||--|-|--|---|-|-|||--|||--||--||--|-|||-|---|--|-|----|||-|--|||--||--||||--|-|---|-||----|\n",
      "----CC-CG-G-GA--TGTGGAGG--TTGCAGT--GA-GCCAAGAT---T--GCGCCACTGCAC-TCCA--GC--CTGG-GT-GACAGAGTAAGAC\n",
      "\n",
      "SCORE : 44.0 \n",
      "ALGORITHM USED : Needleman-Wunsch\n"
     ]
    }
   ],
   "source": [
    "aligner.mode = \"global\"\n",
    "seqAligner_LOCAL = aligner.align(seq_1.seq,seq_2.seq)\n",
    "\n",
    "# show the alignment - only 1 run\n",
    "\n",
    "for alignment in seqAligner_LOCAL:\n",
    "    print(alignment)\n",
    "    break\n",
    "\n",
    "# show score\n",
    "\n",
    "print(f\"SCORE : {aligner.score(seq_1.seq,seq_2.seq)} \")\n",
    "\n",
    "# type of algorithm\n",
    "\n",
    "print(f\"ALGORITHM USED : {aligner.algorithm}\")"
   ]
  },
  {
   "attachments": {},
   "cell_type": "markdown",
   "metadata": {},
   "source": [
    "## SUBSTITUTION MATRIX + SCORING"
   ]
  },
  {
   "cell_type": "code",
   "execution_count": 26,
   "metadata": {},
   "outputs": [
    {
     "data": {
      "text/plain": [
       "194.0"
      ]
     },
     "execution_count": 26,
     "metadata": {},
     "output_type": "execute_result"
    }
   ],
   "source": [
    "# set scores\n",
    "\n",
    "aligner.match_score = +5\n",
    "aligner.mismatch_score = -1\n",
    "aligner.gap_score = -0.5\n",
    "\n",
    "# align\n",
    "\n",
    "seqAligner = aligner.align(seq_1.seq,seq_2.seq)\n",
    "seqAligner.score\n"
   ]
  },
  {
   "cell_type": "code",
   "execution_count": 3,
   "metadata": {},
   "outputs": [],
   "source": [
    "# import substitution matrix\n",
    "from Bio.Align import substitution_matrices\n",
    "\n",
    "# load up substitution matrix\n",
    "\n",
    "subst_matrix = substitution_matrices.load()"
   ]
  },
  {
   "cell_type": "code",
   "execution_count": 8,
   "metadata": {},
   "outputs": [
    {
     "name": "stdout",
     "output_type": "stream",
     "text": [
      "PROCEED FORWARD\n"
     ]
    }
   ],
   "source": [
    "# Load up BLOSUM62\n",
    "\n",
    "# check if present \n",
    "flag = False\n",
    "\n",
    "matrixName = input(\"Enter Matrix Name : \")\n",
    "if matrixName in subst_matrix:\n",
    "    flag = True\n",
    "    print(\"PROCEED FORWARD\")\n",
    "else:\n",
    "    print(\"NOT AVAILABLE\")"
   ]
  },
  {
   "cell_type": "code",
   "execution_count": 9,
   "metadata": {},
   "outputs": [
    {
     "name": "stdout",
     "output_type": "stream",
     "text": [
      "#  Matrix made by matblas from blosum62.iij\n",
      "#  * column uses minimum score\n",
      "#  BLOSUM Clustered Scoring Matrix in 1/2 Bit Units\n",
      "#  Blocks Database = /data/blocks_5.0/blocks.dat\n",
      "#  Cluster Percentage: >= 62\n",
      "#  Entropy =   0.6979, Expected =  -0.5209\n",
      "     A    R    N    D    C    Q    E    G    H    I    L    K    M    F    P    S    T    W    Y    V    B    Z    X    *\n",
      "A  4.0 -1.0 -2.0 -2.0  0.0 -1.0 -1.0  0.0 -2.0 -1.0 -1.0 -1.0 -1.0 -2.0 -1.0  1.0  0.0 -3.0 -2.0  0.0 -2.0 -1.0  0.0 -4.0\n",
      "R -1.0  5.0  0.0 -2.0 -3.0  1.0  0.0 -2.0  0.0 -3.0 -2.0  2.0 -1.0 -3.0 -2.0 -1.0 -1.0 -3.0 -2.0 -3.0 -1.0  0.0 -1.0 -4.0\n",
      "N -2.0  0.0  6.0  1.0 -3.0  0.0  0.0  0.0  1.0 -3.0 -3.0  0.0 -2.0 -3.0 -2.0  1.0  0.0 -4.0 -2.0 -3.0  3.0  0.0 -1.0 -4.0\n",
      "D -2.0 -2.0  1.0  6.0 -3.0  0.0  2.0 -1.0 -1.0 -3.0 -4.0 -1.0 -3.0 -3.0 -1.0  0.0 -1.0 -4.0 -3.0 -3.0  4.0  1.0 -1.0 -4.0\n",
      "C  0.0 -3.0 -3.0 -3.0  9.0 -3.0 -4.0 -3.0 -3.0 -1.0 -1.0 -3.0 -1.0 -2.0 -3.0 -1.0 -1.0 -2.0 -2.0 -1.0 -3.0 -3.0 -2.0 -4.0\n",
      "Q -1.0  1.0  0.0  0.0 -3.0  5.0  2.0 -2.0  0.0 -3.0 -2.0  1.0  0.0 -3.0 -1.0  0.0 -1.0 -2.0 -1.0 -2.0  0.0  3.0 -1.0 -4.0\n",
      "E -1.0  0.0  0.0  2.0 -4.0  2.0  5.0 -2.0  0.0 -3.0 -3.0  1.0 -2.0 -3.0 -1.0  0.0 -1.0 -3.0 -2.0 -2.0  1.0  4.0 -1.0 -4.0\n",
      "G  0.0 -2.0  0.0 -1.0 -3.0 -2.0 -2.0  6.0 -2.0 -4.0 -4.0 -2.0 -3.0 -3.0 -2.0  0.0 -2.0 -2.0 -3.0 -3.0 -1.0 -2.0 -1.0 -4.0\n",
      "H -2.0  0.0  1.0 -1.0 -3.0  0.0  0.0 -2.0  8.0 -3.0 -3.0 -1.0 -2.0 -1.0 -2.0 -1.0 -2.0 -2.0  2.0 -3.0  0.0  0.0 -1.0 -4.0\n",
      "I -1.0 -3.0 -3.0 -3.0 -1.0 -3.0 -3.0 -4.0 -3.0  4.0  2.0 -3.0  1.0  0.0 -3.0 -2.0 -1.0 -3.0 -1.0  3.0 -3.0 -3.0 -1.0 -4.0\n",
      "L -1.0 -2.0 -3.0 -4.0 -1.0 -2.0 -3.0 -4.0 -3.0  2.0  4.0 -2.0  2.0  0.0 -3.0 -2.0 -1.0 -2.0 -1.0  1.0 -4.0 -3.0 -1.0 -4.0\n",
      "K -1.0  2.0  0.0 -1.0 -3.0  1.0  1.0 -2.0 -1.0 -3.0 -2.0  5.0 -1.0 -3.0 -1.0  0.0 -1.0 -3.0 -2.0 -2.0  0.0  1.0 -1.0 -4.0\n",
      "M -1.0 -1.0 -2.0 -3.0 -1.0  0.0 -2.0 -3.0 -2.0  1.0  2.0 -1.0  5.0  0.0 -2.0 -1.0 -1.0 -1.0 -1.0  1.0 -3.0 -1.0 -1.0 -4.0\n",
      "F -2.0 -3.0 -3.0 -3.0 -2.0 -3.0 -3.0 -3.0 -1.0  0.0  0.0 -3.0  0.0  6.0 -4.0 -2.0 -2.0  1.0  3.0 -1.0 -3.0 -3.0 -1.0 -4.0\n",
      "P -1.0 -2.0 -2.0 -1.0 -3.0 -1.0 -1.0 -2.0 -2.0 -3.0 -3.0 -1.0 -2.0 -4.0  7.0 -1.0 -1.0 -4.0 -3.0 -2.0 -2.0 -1.0 -2.0 -4.0\n",
      "S  1.0 -1.0  1.0  0.0 -1.0  0.0  0.0  0.0 -1.0 -2.0 -2.0  0.0 -1.0 -2.0 -1.0  4.0  1.0 -3.0 -2.0 -2.0  0.0  0.0  0.0 -4.0\n",
      "T  0.0 -1.0  0.0 -1.0 -1.0 -1.0 -1.0 -2.0 -2.0 -1.0 -1.0 -1.0 -1.0 -2.0 -1.0  1.0  5.0 -2.0 -2.0  0.0 -1.0 -1.0  0.0 -4.0\n",
      "W -3.0 -3.0 -4.0 -4.0 -2.0 -2.0 -3.0 -2.0 -2.0 -3.0 -2.0 -3.0 -1.0  1.0 -4.0 -3.0 -2.0 11.0  2.0 -3.0 -4.0 -3.0 -2.0 -4.0\n",
      "Y -2.0 -2.0 -2.0 -3.0 -2.0 -1.0 -2.0 -3.0  2.0 -1.0 -1.0 -2.0 -1.0  3.0 -3.0 -2.0 -2.0  2.0  7.0 -1.0 -3.0 -2.0 -1.0 -4.0\n",
      "V  0.0 -3.0 -3.0 -3.0 -1.0 -2.0 -2.0 -3.0 -3.0  3.0  1.0 -2.0  1.0 -1.0 -2.0 -2.0  0.0 -3.0 -1.0  4.0 -3.0 -2.0 -1.0 -4.0\n",
      "B -2.0 -1.0  3.0  4.0 -3.0  0.0  1.0 -1.0  0.0 -3.0 -4.0  0.0 -3.0 -3.0 -2.0  0.0 -1.0 -4.0 -3.0 -3.0  4.0  1.0 -1.0 -4.0\n",
      "Z -1.0  0.0  0.0  1.0 -3.0  3.0  4.0 -2.0  0.0 -3.0 -3.0  1.0 -1.0 -3.0 -1.0  0.0 -1.0 -3.0 -2.0 -2.0  1.0  4.0 -1.0 -4.0\n",
      "X  0.0 -1.0 -1.0 -1.0 -2.0 -1.0 -1.0 -1.0 -1.0 -1.0 -1.0 -1.0 -1.0 -1.0 -2.0  0.0  0.0 -2.0 -1.0 -1.0 -1.0 -1.0 -1.0 -4.0\n",
      "* -4.0 -4.0 -4.0 -4.0 -4.0 -4.0 -4.0 -4.0 -4.0 -4.0 -4.0 -4.0 -4.0 -4.0 -4.0 -4.0 -4.0 -4.0 -4.0 -4.0 -4.0 -4.0 -4.0  1.0\n",
      "\n"
     ]
    }
   ],
   "source": [
    "# load up matrix\n",
    "\n",
    "matrixLoad = substitution_matrices.load(matrixName)\n",
    "print(matrixLoad)"
   ]
  },
  {
   "cell_type": "code",
   "execution_count": 11,
   "metadata": {},
   "outputs": [],
   "source": [
    "# load up protein fasta\n",
    "\n",
    "protSeq_1 = SeqIO.read(\"./prot_homo_sapien_1.fasta\",\"fasta\")\n",
    "protSeq_2 = SeqIO.read(\"./prot_homo_sapien_2.fasta\",\"fasta\")"
   ]
  },
  {
   "cell_type": "code",
   "execution_count": 18,
   "metadata": {},
   "outputs": [
    {
     "name": "stdout",
     "output_type": "stream",
     "text": [
      "Sequence Alignment : \n",
      "MEPGAA--A-R--AWS-L----LW---LL----L---P--LLGPVC--A-------S-GPRTLVLL-D-NLN---LRE-T--HSLFFRSLKDRAFELTFKTADDPSLSLI\n",
      "|---||--|-|--|---|----|----||----|---|--|--|----|-------.-||-------|-|.----|-.-.--|-|---|---|-|----.----------\n",
      "M---AAVLALRVVA--GLAAAAL-VAMLLEHYGLAGQPSPL--P--RPAPPRRPHPAPGP------GDSNI-FWGL-QISDIH-L---S---R-F----R----------\n",
      "\n",
      "Sequence Alignment Score : \n",
      " 132.0\n"
     ]
    }
   ],
   "source": [
    "# initialise aligner\n",
    "\n",
    "aligner.substitution_matrix = matrixLoad\n",
    "\n",
    "# alignment show\n",
    "\n",
    "protAlignment = aligner.align(protSeq_1.seq,protSeq_2.seq)\n",
    "print(\"Sequence Alignment : \")\n",
    "\n",
    "for alignmentShow in protAlignment:\n",
    "    print(alignmentShow)\n",
    "    break\n",
    "\n",
    "# score the amino sequence\n",
    " \n",
    "protScore = aligner.score(protSeq_1.seq,protSeq_2.seq)\n",
    "\n",
    "print(f\"Sequence Alignment Score : \\n {protScore}\")"
   ]
  },
  {
   "cell_type": "code",
   "execution_count": null,
   "metadata": {},
   "outputs": [],
   "source": []
  }
 ],
 "metadata": {
  "kernelspec": {
   "display_name": "Python 3",
   "language": "python",
   "name": "python3"
  },
  "language_info": {
   "codemirror_mode": {
    "name": "ipython",
    "version": 3
   },
   "file_extension": ".py",
   "mimetype": "text/x-python",
   "name": "python",
   "nbconvert_exporter": "python",
   "pygments_lexer": "ipython3",
   "version": "3.10.5 (tags/v3.10.5:f377153, Jun  6 2022, 16:14:13) [MSC v.1929 64 bit (AMD64)]"
  },
  "orig_nbformat": 4,
  "vscode": {
   "interpreter": {
    "hash": "3d146aba82d5cbe1b6bc02d88d69f2f0f5a7ce1392d5f0c8c2a7c473fd55863c"
   }
  }
 },
 "nbformat": 4,
 "nbformat_minor": 2
}
