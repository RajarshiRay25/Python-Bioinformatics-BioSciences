{
 "cells": [
  {
   "cell_type": "code",
   "execution_count": 18,
   "metadata": {},
   "outputs": [],
   "source": [
    "# import Sequence Alignment modules and libraries\n",
    "from Bio import pairwise2\n",
    "from Bio import SeqIO\n",
    "from Bio.SubsMat.MatrixInfo import blosum62"
   ]
  },
  {
   "cell_type": "code",
   "execution_count": 14,
   "metadata": {},
   "outputs": [],
   "source": [
    "# read sequences from fasta files\n",
    "\n",
    "seq_1 = SeqIO.read(\"./homosapiens_pseudogene_3.fasta\",\"fasta\")\n",
    "seq_2 = SeqIO.read(\"./homosapiens_pseudogene_4.fasta\",\"fasta\")"
   ]
  },
  {
   "attachments": {},
   "cell_type": "markdown",
   "metadata": {},
   "source": [
    "## GLOBAL ALIGNMENTS"
   ]
  },
  {
   "cell_type": "code",
   "execution_count": 15,
   "metadata": {},
   "outputs": [
    {
     "data": {
      "text/plain": [
       "list"
      ]
     },
     "execution_count": 15,
     "metadata": {},
     "output_type": "execute_result"
    }
   ],
   "source": [
    "# Perform global alignment\n",
    "# xx means matching/mismatch and gap scores respectively\n",
    "\n",
    "alignments = pairwise2.align.globalxx(seq_1.seq,seq_2.seq)\n",
    "\n",
    "type(alignments) # seeing the type of value returned -- list -- returns list of alignments\n"
   ]
  },
  {
   "cell_type": "code",
   "execution_count": 16,
   "metadata": {},
   "outputs": [
    {
     "name": "stdout",
     "output_type": "stream",
     "text": [
      "Global Alignment\n",
      "Alignment(seqA='AGGTCCTGAGCAAAGGAGGACT-TGGTA--T-GAACAAGTG-G----GT-TTG-G----TGC-CG-CCATTGCTTCTGGCT-TG---G-GT----C', seqB='----CC----C----G-GGA-TGTGG-AGGTTG--C-AGTGAGCCAAG-ATTGCGCCACTGCAC-TCCA--GC--CTGG--GTGACAGAGTAAGAC', score=44.0, start=0, end=96)\n"
     ]
    }
   ],
   "source": [
    "# seeing results\n",
    "\n",
    "print(\"Global Alignment\")\n",
    "print(alignments[0])  # raw output"
   ]
  },
  {
   "cell_type": "code",
   "execution_count": 17,
   "metadata": {},
   "outputs": [
    {
     "name": "stdout",
     "output_type": "stream",
     "text": [
      "Global Alignment\n",
      "AGGTCCTGAGCAAAGGAGGACT-TGGTA--T-GAACAAGTG-G----GT-TTG-G----TGC-CG-CCATTGCTTCTGGCT-TG---G-GT----C\n",
      "    ||    |    | ||| | ||| |  | |  | |||| |    |  ||| |    ||| |  |||  ||  ||||   ||   | ||    |\n",
      "----CC----C----G-GGA-TGTGG-AGGTTG--C-AGTGAGCCAAG-ATTGCGCCACTGCAC-TCCA--GC--CTGG--GTGACAGAGTAAGAC\n",
      "  Score=44\n",
      "\n"
     ]
    }
   ],
   "source": [
    "# seeing results -- formatted output\n",
    "\n",
    "print(\"Global Alignment\")\n",
    "print(pairwise2.format_alignment(*alignments[0]))"
   ]
  },
  {
   "cell_type": "code",
   "execution_count": 21,
   "metadata": {},
   "outputs": [
    {
     "name": "stdout",
     "output_type": "stream",
     "text": [
      "AGGTCCTGAGCAAAGGAGGACTTGGTATGAACAAGTGGGTTTGGTGCCGCCATTGCT-TCTGGCTTGGGT------------C\n",
      "    ||.|.|....|||||  |||...|||.|.|   .|.|||    |||||.|||. ||..||.|||||            |\n",
      "----CCCGGGATGTGGAGG--TTGCAGTGAGCCA---AGATTG----CGCCACTGCACTCCAGCCTGGGTGACAGAGTAAGAC\n",
      "  Score=170\n",
      "\n"
     ]
    }
   ],
   "source": [
    "# alignments using scoring matrix - PAM / BLOSUM - penalties and gaps\n",
    "# ds - stands for activating gap open and gap extend\n",
    "\n",
    "scoring_alignments = pairwise2.align.globalds(seq_1.seq,seq_2.seq,blosum62,-10,-0.5)\n",
    "print(pairwise2.format_alignment(*scoring_alignments[0]))\n"
   ]
  },
  {
   "attachments": {},
   "cell_type": "markdown",
   "metadata": {},
   "source": [
    "## LOCAL ALIGNMENTS"
   ]
  },
  {
   "cell_type": "code",
   "execution_count": 25,
   "metadata": {},
   "outputs": [
    {
     "data": {
      "text/plain": [
       "list"
      ]
     },
     "execution_count": 25,
     "metadata": {},
     "output_type": "execute_result"
    }
   ],
   "source": [
    "# same as above just change function to .localxx\n",
    "# lets try with protein sequences\n",
    "\n",
    "prot_1 = SeqIO.read(\"./prot_homo_sapien_1.fasta\",\"fasta\")\n",
    "prot_2 = SeqIO.read(\"./prot_homo_sapien_2.fasta\",\"fasta\")\n",
    "\n",
    "prot_alignment = pairwise2.align.localxx(prot_1.seq,prot_2.seq)\n",
    "type(prot_alignment)"
   ]
  },
  {
   "cell_type": "code",
   "execution_count": 26,
   "metadata": {},
   "outputs": [
    {
     "name": "stdout",
     "output_type": "stream",
     "text": [
      "1 MEPGAAARAWSLLWLLLP-L-LGP-VC-ASGPRTLVL----LDN---LNLRETHS--LFFR----S-LKD-R-AFELTFKT-------ADDP----S-----L--SL-I\n",
      "  |     | |          | |   |  | |     |    |     | | | |   |       | |   | |              |  |    |     |  |  |\n",
      "1 M-----A-A---------VLAL--RV-VA-G-----LAAAAL--VAML-L-E-H-YGL---AGQPSPL--PRPA-------PPRRPHPA--PGPGDSNIFWGLQIS-DI\n",
      "  Score=25\n",
      "\n"
     ]
    }
   ],
   "source": [
    "# Read the alignment\n",
    "\n",
    "print(pairwise2.format_alignment(*prot_alignment[0]))"
   ]
  },
  {
   "cell_type": "code",
   "execution_count": 27,
   "metadata": {},
   "outputs": [
    {
     "data": {
      "text/plain": [
       "list"
      ]
     },
     "execution_count": 27,
     "metadata": {},
     "output_type": "execute_result"
    }
   ],
   "source": [
    "# same with scoring matrix\n",
    "\n",
    "score_prot_alignment = pairwise2.align.localds(prot_1.seq,prot_2.seq,blosum62,-10,-0.5)\n",
    "type(score_prot_alignment)"
   ]
  },
  {
   "cell_type": "code",
   "execution_count": 28,
   "metadata": {},
   "outputs": [
    {
     "name": "stdout",
     "output_type": "stream",
     "text": [
      " 4 GAAARAWSLLWLLLPLLG----------------PVCASGPRTLVLLDNLNLRETHSLFFR\n",
      "   |.||.|  |...||...|                |..|.||........|.....|...||\n",
      "12 GLAAAA--LVAMLLEHYGLAGQPSPLPRPAPPRRPHPAPGPGDSNIFWGLQISDIHLSRFR\n",
      "  Score=26\n",
      "\n"
     ]
    }
   ],
   "source": [
    "# View scored alignment\n",
    "\n",
    "print(pairwise2.format_alignment(*score_prot_alignment[0]))"
   ]
  },
  {
   "cell_type": "code",
   "execution_count": null,
   "metadata": {},
   "outputs": [],
   "source": []
  }
 ],
 "metadata": {
  "kernelspec": {
   "display_name": "Python 3",
   "language": "python",
   "name": "python3"
  },
  "language_info": {
   "codemirror_mode": {
    "name": "ipython",
    "version": 3
   },
   "file_extension": ".py",
   "mimetype": "text/x-python",
   "name": "python",
   "nbconvert_exporter": "python",
   "pygments_lexer": "ipython3",
   "version": "3.10.5"
  },
  "orig_nbformat": 4,
  "vscode": {
   "interpreter": {
    "hash": "3d146aba82d5cbe1b6bc02d88d69f2f0f5a7ce1392d5f0c8c2a7c473fd55863c"
   }
  }
 },
 "nbformat": 4,
 "nbformat_minor": 2
}
